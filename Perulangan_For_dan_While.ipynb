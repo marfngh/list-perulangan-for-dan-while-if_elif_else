{
  "nbformat": 4,
  "nbformat_minor": 0,
  "metadata": {
    "colab": {
      "provenance": []
    },
    "kernelspec": {
      "name": "python3",
      "display_name": "Python 3"
    },
    "language_info": {
      "name": "python"
    }
  },
  "cells": [
    {
      "cell_type": "markdown",
      "source": [
        "LOOPING/PERULANGAN\n"
      ],
      "metadata": {
        "id": "FcAjEprQEtqC"
      }
    },
    {
      "cell_type": "markdown",
      "source": [
        "for loop"
      ],
      "metadata": {
        "id": "M8-EAucYE6oO"
      }
    },
    {
      "cell_type": "code",
      "source": [
        "#Program untuk menghitung jumlah semua angka dalam sebuah list\n",
        "L1=[2, 4, 5, 7, 9]\n",
        "jumlah=0\n",
        "\n",
        "#iterasi di dalan list\n",
        "for i in L1:\n",
        "  jumlah= jumlah + i\n",
        "\n",
        "print(jumlah)"
      ],
      "metadata": {
        "colab": {
          "base_uri": "https://localhost:8080/"
        },
        "id": "tnDdoLxdE75h",
        "outputId": "9bd7ffc8-a9af-4407-9c46-f47ced9a3209"
      },
      "execution_count": 3,
      "outputs": [
        {
          "output_type": "stream",
          "name": "stdout",
          "text": [
            "27\n"
          ]
        }
      ]
    },
    {
      "cell_type": "markdown",
      "source": [
        "the range()function"
      ],
      "metadata": {
        "id": "G0xTRBJyFrwz"
      }
    },
    {
      "cell_type": "code",
      "source": [
        "#Program untuk melakukan iterasi di dalam list melalui indeks\n",
        "minum = [\"teh\",\"boba\",\"kopi\",\"susu\"]\n",
        "p = len(minum)\n",
        "\n",
        "#iterasi di dalam list melalui indeks\n",
        "for i in range(p):\n",
        "  print(minum[i])"
      ],
      "metadata": {
        "colab": {
          "base_uri": "https://localhost:8080/"
        },
        "id": "U0AW7_iKFwos",
        "outputId": "71c9e988-b300-4c3d-b36a-33068480c58c"
      },
      "execution_count": 4,
      "outputs": [
        {
          "output_type": "stream",
          "name": "stdout",
          "text": [
            "teh\n",
            "boba\n",
            "kopi\n",
            "susu\n"
          ]
        }
      ]
    },
    {
      "cell_type": "markdown",
      "source": [
        "for loop withe else"
      ],
      "metadata": {
        "id": "PTIdTqXNGWKE"
      }
    },
    {
      "cell_type": "code",
      "source": [
        "for i in range(p):\n",
        "  print(minum[i])\n",
        "else:\n",
        "  print(\"Elemen sudah habis\")"
      ],
      "metadata": {
        "colab": {
          "base_uri": "https://localhost:8080/"
        },
        "id": "jOOqQVm_Ga2F",
        "outputId": "a1cc702c-9476-49fb-f301-258bc70ec36e"
      },
      "execution_count": 5,
      "outputs": [
        {
          "output_type": "stream",
          "name": "stdout",
          "text": [
            "teh\n",
            "boba\n",
            "kopi\n",
            "susu\n",
            "Elemen sudah habis\n"
          ]
        }
      ]
    },
    {
      "cell_type": "markdown",
      "source": [
        "Latihan 1\n",
        "diberikan list_tagihan. kamu diminta untuk menghitung jumlah seluruh tagihan!. Gunakan looping for, simpan hasilnya pada variabel total_tagihan!"
      ],
      "metadata": {
        "id": "H-qVb6ozGpVE"
      }
    },
    {
      "cell_type": "code",
      "source": [
        "list_tagihan = [50000, 75000, -150000, 125000, 300000, -50000, 200000]\n",
        "jumlah=0\n",
        "\n",
        "#iterasi di dalam list\n",
        "for i in list_tagihan:\n",
        "  jumlah = jumlah + i\n",
        "print(jumlah)"
      ],
      "metadata": {
        "colab": {
          "base_uri": "https://localhost:8080/"
        },
        "id": "jBJHln5wHEtO",
        "outputId": "190236b0-263f-469d-baba-8d470d972f4e"
      },
      "execution_count": 6,
      "outputs": [
        {
          "output_type": "stream",
          "name": "stdout",
          "text": [
            "550000\n"
          ]
        }
      ]
    },
    {
      "cell_type": "markdown",
      "source": [
        "While loop"
      ],
      "metadata": {
        "id": "6AW4XvmbIkMt"
      }
    },
    {
      "cell_type": "code",
      "source": [
        "#program untuk menjumlahkan semua\n",
        "#bilangan asli hingga suku ke-n\n",
        "#jum = 1+2+3+...+n\n",
        "\n",
        "n = 10\n",
        "jumlah = 0\n",
        "i = 1\n",
        "\n",
        "while i <= n:\n",
        "  jumlah = jumlah + i\n",
        "  i = i + 1\n",
        "print(jumlah)"
      ],
      "metadata": {
        "colab": {
          "base_uri": "https://localhost:8080/"
        },
        "id": "O7OHXxq9IsUy",
        "outputId": "1defe957-d773-4595-8594-9e1d9936573e"
      },
      "execution_count": 7,
      "outputs": [
        {
          "output_type": "stream",
          "name": "stdout",
          "text": [
            "55\n"
          ]
        }
      ]
    },
    {
      "cell_type": "markdown",
      "source": [
        "while loop with else"
      ],
      "metadata": {
        "id": "byXHuFHIJM4h"
      }
    },
    {
      "cell_type": "code",
      "source": [
        "jum = 0\n",
        "i =1\n",
        "while i <= n:\n",
        "  jum = jum + i\n",
        "  i = i + 1\n",
        "else:\n",
        "  print(jum) #dieksekusi diluar looping"
      ],
      "metadata": {
        "colab": {
          "base_uri": "https://localhost:8080/"
        },
        "id": "LqLV9lgsJPbp",
        "outputId": "ce5ce0f6-ba8e-4b73-ee35-9f12a21514b6"
      },
      "execution_count": 8,
      "outputs": [
        {
          "output_type": "stream",
          "name": "stdout",
          "text": [
            "55\n"
          ]
        }
      ]
    },
    {
      "cell_type": "markdown",
      "source": [
        "Latihan 2\n",
        "diberikan list tagihan, hitung total_tagihan menggunakan while loop"
      ],
      "metadata": {
        "id": "cpW4FawRJkG3"
      }
    },
    {
      "cell_type": "code",
      "source": [
        "tagihan = [50000, 75000, 125000, 300000, 200000]\n",
        "jumlah_tagihan = len(tagihan)\n",
        "i = 0\n",
        "total_tagihan = 0\n",
        "while i < jumlah_tagihan:\n",
        "  total_tagihan += tagihan[i]\n",
        "  i += 1\n",
        "print(total_tagihan)"
      ],
      "metadata": {
        "colab": {
          "base_uri": "https://localhost:8080/"
        },
        "id": "zilJT6_bJjh8",
        "outputId": "880b7ed1-214e-4ae1-fd4a-107e7946fa3a"
      },
      "execution_count": 18,
      "outputs": [
        {
          "output_type": "stream",
          "name": "stdout",
          "text": [
            "750000\n"
          ]
        }
      ]
    }
  ]
}