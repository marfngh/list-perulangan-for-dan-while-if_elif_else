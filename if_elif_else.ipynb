{
  "nbformat": 4,
  "nbformat_minor": 0,
  "metadata": {
    "colab": {
      "provenance": []
    },
    "kernelspec": {
      "name": "python3",
      "display_name": "Python 3"
    },
    "language_info": {
      "name": "python"
    }
  },
  "cells": [
    {
      "cell_type": "markdown",
      "source": [
        "PERCABANGAN/STRUKTUR PEMILIHAN"
      ],
      "metadata": {
        "id": "bai8B0eBQ-aO"
      }
    },
    {
      "cell_type": "markdown",
      "source": [
        "if statments"
      ],
      "metadata": {
        "id": "CWYIkrpJRF7x"
      }
    },
    {
      "cell_type": "code",
      "execution_count": 8,
      "metadata": {
        "colab": {
          "base_uri": "https://localhost:8080/"
        },
        "id": "grza3LZoMvHU",
        "outputId": "d1e0f78f-c972-4b36-d5da-447bbe3ae3d7"
      },
      "outputs": [
        {
          "output_type": "stream",
          "name": "stdout",
          "text": [
            "3 adalah bilangan positif\n",
            "pernyataan ini selalu ditampilkan\n"
          ]
        }
      ],
      "source": [
        "#jika angka adalah bilangan positif maka print \"adalah bilangan positif\"\n",
        "\n",
        "angka=3\n",
        "if angka > 0:\n",
        "   print(angka, \"adalah bilangan positif\")\n",
        "   print(\"pernyataan ini selalu ditampilkan\")\n",
        "\n",
        "angka=-1\n",
        "if angka > 0:\n",
        "   print(angka, \"adalah bilangan positif\")\n",
        "   print(\"pernyataan ini juga selalu ditampilkan\")"
      ]
    },
    {
      "cell_type": "markdown",
      "source": [
        "if else statments"
      ],
      "metadata": {
        "id": "zOP2pnj6Sy2k"
      }
    },
    {
      "cell_type": "code",
      "source": [
        "# Program disusun untuk mengecek apakah angka tersebut kurang dari 0 atau tidak\n",
        "# dan menampilkan tulisan yang sesuai\n",
        "\n",
        "angka = 3\n",
        "if angka >= 0:\n",
        "  print(\"Bilangan lebih dari atau samadengan 0\")\n",
        "else:\n",
        "  print(\"Bilangan kurang dari 0\")"
      ],
      "metadata": {
        "colab": {
          "base_uri": "https://localhost:8080/"
        },
        "id": "vlgdBD13S9K2",
        "outputId": "ca3f9df9-fa65-4ddb-d2c2-c8c8b37ea1d7"
      },
      "execution_count": 3,
      "outputs": [
        {
          "output_type": "stream",
          "name": "stdout",
          "text": [
            "Bilangan lebih dari atau samadengan 0\n"
          ]
        }
      ]
    },
    {
      "cell_type": "code",
      "source": [
        "# Program disusun untuk mengecek apakah dua buah angka sama atau tidak\n",
        "# dan menampilkan tulisan yang sesuai\n",
        "\n",
        "a=5\n",
        "b=5\n",
        "\n",
        "if a==b:\n",
        "  print(\"a dan b bernilai sama\")\n",
        "else:\n",
        "  print(\"a dan b bernilai berbeda\")\n",
        "  print(\"Belajar If Else\")"
      ],
      "metadata": {
        "colab": {
          "base_uri": "https://localhost:8080/"
        },
        "id": "LgdzoejrUSCy",
        "outputId": "f16f9b57-101d-45d8-bca6-f43d2d255c85"
      },
      "execution_count": 7,
      "outputs": [
        {
          "output_type": "stream",
          "name": "stdout",
          "text": [
            "a dan b bernilai sama\n"
          ]
        }
      ]
    },
    {
      "cell_type": "code",
      "source": [
        "# Program disusun untuk mengecek apakah perbandingan dua buah angka\n",
        "# dan menampilkan tulisan yang sesuai\n",
        "\n",
        "#membaca dua angka\n",
        "bill = int(input(\"Masukkan bilangan pertama: \"))\n",
        "bil2 = int(input(\"Masukkan bilangan kedua: \"))\n",
        "\n",
        "# memilih bilangan yang lebih besar\n",
        "if bill > bil2:\n",
        "  bil_lebih_besar = bill\n",
        "else:\n",
        "  bil_lebih_besar = bil2\n",
        "\n",
        "# menampilkan hasil\n",
        "print(\"Bilangan yang lebih besar adalah:\", bil_lebih_besar)"
      ],
      "metadata": {
        "colab": {
          "base_uri": "https://localhost:8080/"
        },
        "id": "TwyOCz58Up6G",
        "outputId": "4a661b9f-7dd3-4011-f007-76958337f889"
      },
      "execution_count": 11,
      "outputs": [
        {
          "output_type": "stream",
          "name": "stdout",
          "text": [
            "Masukkan bilangan pertama: 3\n",
            "Masukkan bilangan kedua: 5\n",
            "Bilangan yang lebih besar adalah: 5\n"
          ]
        }
      ]
    },
    {
      "cell_type": "markdown",
      "source": [
        "if elif else"
      ],
      "metadata": {
        "id": "JaVYoB9LVQVW"
      }
    },
    {
      "cell_type": "code",
      "source": [
        "# Program disusun untuk mengecek apakah angka merupakan bilangan positif, negatif atau sol\n",
        "# dan menampilkan tulisan yang sesuai.\n",
        "\n",
        "angka = 3.4\n",
        "\n",
        "if angka > 0:\n",
        " print(\"Bilangan positif\")\n",
        "elif num == 0:\n",
        " print(\"No1\")\n",
        "else:\n",
        " print(\"Bilangan Negatif\")"
      ],
      "metadata": {
        "colab": {
          "base_uri": "https://localhost:8080/"
        },
        "id": "ZZJpErW_VUFQ",
        "outputId": "482aa39b-d955-4938-db1a-a1962478ea64"
      },
      "execution_count": 14,
      "outputs": [
        {
          "output_type": "stream",
          "name": "stdout",
          "text": [
            "Bilangan positif\n"
          ]
        }
      ]
    },
    {
      "cell_type": "code",
      "source": [
        "# Statement if\n",
        "x = 4\n",
        "if x % 2 == 0: # jika x dibagi 2 sisanya samadengan 0\n",
        "   print(\"x habis dibagi dua\")\n",
        "\n",
        "# Statement if ... elif ... else\n",
        "x = 7\n",
        "if x % 2 == 0: # jika x dibagi 2 sisanya samadengan 0\n",
        "   print(\"x habis dibagi dua\")\n",
        "elif x % 3 ==0: # jika x dibagi 3 sisanya samadengan 0\n",
        "   print(\"x habis dibagi tiga\")\n",
        "elif x % 5 == 0: # jika x dibagi 5 sisanya samadengan 0\n",
        "   print(\"x habis dibagi lima\")\n",
        "else:\n",
        "   print(\"x tidak habis dibagi dua, tiga ataupun lima\")"
      ],
      "metadata": {
        "colab": {
          "base_uri": "https://localhost:8080/"
        },
        "id": "T5RiWFJPVOr2",
        "outputId": "c621521b-4fb3-4661-ecb1-5b0bb18c14d9"
      },
      "execution_count": 16,
      "outputs": [
        {
          "output_type": "stream",
          "name": "stdout",
          "text": [
            "x habis dibagi dua\n",
            "x tidak habis dibagi dua, tiga ataupun lima\n"
          ]
        }
      ]
    },
    {
      "cell_type": "markdown",
      "source": [
        "python nasted if statments"
      ],
      "metadata": {
        "id": "O_pE0fx1cTTc"
      }
    },
    {
      "cell_type": "code",
      "source": [
        "# Program disusun untuk mengecek apakah angka merupakan bilangan positif, négatif ataŭ no1.\n",
        "# dan menampilkan tulisan yang semuas\n",
        "\n",
        "angka = float(input(\"Masukkan angka: \"))\n",
        "if angka >= 0:\n",
        "  if angka == 0:\n",
        "    print(\"Nol\")\n",
        "  else:\n",
        "    print(\"Bilangan Positif\")\n",
        "else:\n",
        "  print(\"Bilangan Negatif\")"
      ],
      "metadata": {
        "colab": {
          "base_uri": "https://localhost:8080/"
        },
        "id": "4FkY9kETcYjr",
        "outputId": "70ce68ac-e65f-4161-d0b0-2ece2c43e8f5"
      },
      "execution_count": 19,
      "outputs": [
        {
          "output_type": "stream",
          "name": "stdout",
          "text": [
            "Masukkan angka: 4\n",
            "Bilangan Positif\n"
          ]
        }
      ]
    },
    {
      "cell_type": "markdown",
      "source": [
        "Latihan\n",
        "Buatlah sebuah fungsi \"Mahal_Diskon\" dengan ketentuan:\n",
        "\n",
        "\n",
        "*   input berupa data harga produk dengan tipe data numerik tunggal\n",
        "*   kategori input adalah \"Murah\" dan \"Mahal\", kemudian diskon ada 3 kategori\"10%\",\"20%\",dan\"40%\"\n",
        "*   output pertama sebuah teks/string yang menyatakan \"Mahal\" atau \"Murah\" dan keterangan \"Kamu Dapat Diskon...\"\n",
        "*   output kedua adalah harga yang perlu dibayarkan\n",
        "\n",
        "\n",
        "\n"
      ],
      "metadata": {
        "id": "fSaomzCRcwTw"
      }
    },
    {
      "cell_type": "code",
      "source": [
        "harga = float(input(\"masukkan harga: \"))\n",
        "if harga >= 100000:\n",
        " print(\"Mahal\")\n",
        " if harga >= 100000 and harga < 200000:\n",
        "  diskon = \"10%\"\n",
        "  harga_diskon = harga - (harga * 0.1)\n",
        " elif harga >= 200000 and harga < 400000:\n",
        "  diskon = \"20%\"\n",
        "  harga_diskon = harga - (harga * 0.2)\n",
        " else:\n",
        "  diskon = \"40%\"\n",
        "  harga_diskon = harga - (harga * 0.4)\n",
        " print(\"Kamu Dapat Diskon \" , diskon)\n",
        "else:\n",
        " print(\"Murah\")\n",
        " harga_diskon = harga\n",
        " print(\"\")\n",
        "print(\"harga yang perlu dibayarkan\", harga_diskon)"
      ],
      "metadata": {
        "colab": {
          "base_uri": "https://localhost:8080/"
        },
        "id": "AkDGpOs7d_Un",
        "outputId": "0a553397-640b-4ca5-ef67-9d437e4be7b6"
      },
      "execution_count": 21,
      "outputs": [
        {
          "output_type": "stream",
          "name": "stdout",
          "text": [
            "masukkan harga: 200000\n",
            "Mahal\n",
            "Kamu Dapat Diskon  20%\n",
            "harga yang perlu dibayarkan 160000.0\n"
          ]
        }
      ]
    },
    {
      "cell_type": "code",
      "source": [
        "harga = float(input(\"masukkan harga: \"))\n",
        "if harga >= 100000:\n",
        " print(\"Mahal\")\n",
        " if harga >= 100000 and harga < 200000:\n",
        "  diskon = \"10%\"\n",
        "  harga_diskon = harga - (harga * 0.1)\n",
        " elif harga >= 200000 and harga < 400000:\n",
        "  diskon = \"20%\"\n",
        "  harga_diskon = harga - (harga * 0.2)\n",
        " else:\n",
        "  diskon = \"40%\"\n",
        "  harga_diskon = harga - (harga * 0.4)\n",
        " print(\"Kamu Dapat Diskon \" , diskon)\n",
        "else:\n",
        " print(\"Murah\")\n",
        " harga_diskon = harga\n",
        " print(\"\")\n",
        "print(\"harga yang perlu dibayarkan\", harga_diskon)"
      ],
      "metadata": {
        "colab": {
          "base_uri": "https://localhost:8080/"
        },
        "id": "loTuZS7KqW4T",
        "outputId": "2f801feb-1ede-44e8-8333-a8e477472875"
      },
      "execution_count": 23,
      "outputs": [
        {
          "output_type": "stream",
          "name": "stdout",
          "text": [
            "masukkan harga: 50000\n",
            "Murah\n",
            "\n",
            "harga yang perlu dibayarkan 50000.0\n"
          ]
        }
      ]
    }
  ]
}