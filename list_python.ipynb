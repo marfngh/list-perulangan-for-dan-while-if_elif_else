{
  "nbformat": 4,
  "nbformat_minor": 0,
  "metadata": {
    "colab": {
      "provenance": []
    },
    "kernelspec": {
      "name": "python3",
      "display_name": "Python 3"
    },
    "language_info": {
      "name": "python"
    }
  },
  "cells": [
    {
      "cell_type": "markdown",
      "source": [
        "Membuat List Python"
      ],
      "metadata": {
        "id": "ydoF86vm2mbb"
      }
    },
    {
      "cell_type": "code",
      "source": [
        "#Contoh sederhana pembuatan list pada bahasa pemrograman python\n",
        "list1= ['kimia', 'fisika', 1993, 2017]\n",
        "list2= [1, 2, 3, 4, 5]\n",
        "list3= [\"a\", \"b\", \"c\", \"d\"]\n",
        "\n",
        "print('List 1:', list1)\n",
        "print('List 2:', list2)\n",
        "print('List 3:', list3)"
      ],
      "metadata": {
        "colab": {
          "base_uri": "https://localhost:8080/"
        },
        "id": "-yasrepT2t7j",
        "outputId": "da72cea9-ebbf-465b-aff2-5affe2810d75"
      },
      "execution_count": 12,
      "outputs": [
        {
          "output_type": "stream",
          "name": "stdout",
          "text": [
            "List 1: ['kimia', 'fisika', 1993, 2017]\n",
            "List 2: [1, 2, 3, 4, 5]\n",
            "List 3: ['a', 'b', 'c', 'd']\n"
          ]
        }
      ]
    },
    {
      "cell_type": "markdown",
      "source": [
        "Akses Nilai Dalam List Python"
      ],
      "metadata": {
        "id": "po_EtTSR4n4B"
      }
    },
    {
      "cell_type": "code",
      "source": [
        "#Cara mengakses nilai di dalam list Python\n",
        "\n",
        "list1 = ['fisika', 'kimia', 1993, 2017]\n",
        "list2 = [1, 2, 3, 4, 5, 6, 7]\n",
        "\n",
        "print (\"list1[0]: \", list1[0])\n",
        "print (\"list2[1:5]: \", list2[1:5])"
      ],
      "metadata": {
        "colab": {
          "base_uri": "https://localhost:8080/"
        },
        "id": "pD7g9cP14srp",
        "outputId": "71fe3849-5edf-4795-e56e-8717f5132dda"
      },
      "execution_count": 13,
      "outputs": [
        {
          "output_type": "stream",
          "name": "stdout",
          "text": [
            "list1[0]:  fisika\n",
            "list2[1:5]:  [2, 3, 4, 5]\n"
          ]
        }
      ]
    },
    {
      "cell_type": "markdown",
      "source": [
        "Update Nilai Dalam Python"
      ],
      "metadata": {
        "id": "lUIKXkbw6Iq3"
      }
    },
    {
      "cell_type": "code",
      "source": [
        "list = ['fisika', 'kimia', 1993, 2017]\n",
        "print (\"Nilai ada pada index 2:\", list[2])\n",
        "\n",
        "list[2] = 2001\n",
        "print (\"Nilai baru ada pada index 2:\", list[2])"
      ],
      "metadata": {
        "colab": {
          "base_uri": "https://localhost:8080/"
        },
        "id": "DTQf5Lt86M-v",
        "outputId": "1244f611-6420-491a-a01c-573ecc9d7721"
      },
      "execution_count": 18,
      "outputs": [
        {
          "output_type": "stream",
          "name": "stdout",
          "text": [
            "Nilai ada pada index 2: 1993\n",
            "Nilai baru ada pada index 2: 2001\n"
          ]
        }
      ]
    },
    {
      "cell_type": "markdown",
      "source": [
        "Hapus Nilai Dalam List Python"
      ],
      "metadata": {
        "id": "J1Y9iVeb7Zsq"
      }
    },
    {
      "cell_type": "code",
      "source": [
        "#contoh cara menghapus nilai\n",
        "list = ['fisika', 'kimia', 1993, 2017]\n",
        "print(list)\n",
        "del list[2]\n",
        "print(\"setelah dihapus nilai pada index 2:\", list)"
      ],
      "metadata": {
        "colab": {
          "base_uri": "https://localhost:8080/"
        },
        "id": "5P-1UaAy7Hpw",
        "outputId": "8135148f-e037-44a6-9145-c79c3e801b66"
      },
      "execution_count": 19,
      "outputs": [
        {
          "output_type": "stream",
          "name": "stdout",
          "text": [
            "['fisika', 'kimia', 1993, 2017]\n",
            "setelah dihapus nilai pada index 2: ['fisika', 'kimia', 2017]\n"
          ]
        }
      ]
    },
    {
      "cell_type": "markdown",
      "source": [
        "Slicing pada List Python"
      ],
      "metadata": {
        "id": "pA0zYeHY7w2F"
      }
    },
    {
      "cell_type": "code",
      "source": [
        "L= ['C++', 'Java', 'Python']\n",
        "\n",
        "print('Indeks ke-2:', L[2])\n",
        "print('Indeks ke-2 dari belakang:', L[-2])\n",
        "print('Indeks ke 1 dan 2 :', L[1:])"
      ],
      "metadata": {
        "colab": {
          "base_uri": "https://localhost:8080/"
        },
        "id": "bh5eVJst71Tw",
        "outputId": "01e4ad3a-0c74-4c80-821b-5ff37fcfd111"
      },
      "execution_count": 21,
      "outputs": [
        {
          "output_type": "stream",
          "name": "stdout",
          "text": [
            "Indeks ke-2: Python\n",
            "Indeks ke-2 dari belakang: Java\n",
            "Indeks ke 1 dan 2 : ['Java', 'Python']\n"
          ]
        }
      ]
    },
    {
      "cell_type": "markdown",
      "source": [
        "Set"
      ],
      "metadata": {
        "id": "BgBZI6f38I2h"
      }
    },
    {
      "cell_type": "code",
      "source": [
        "#mengakses item dalam set\n",
        "a = (\"Rokok\", \"Korek\", \"Asbak\")\n",
        "print(\"Rokok\" in a)"
      ],
      "metadata": {
        "colab": {
          "base_uri": "https://localhost:8080/"
        },
        "id": "YuRxrun08Ia-",
        "outputId": "b215e6b2-675d-41dd-c633-0b6ba79a9baf"
      },
      "execution_count": 23,
      "outputs": [
        {
          "output_type": "stream",
          "name": "stdout",
          "text": [
            "True\n"
          ]
        }
      ]
    },
    {
      "cell_type": "code",
      "source": [
        "#menghapus item dalam set\n",
        "a = {\"Rokok\", \"Korek\", \"Asbak\"}\n",
        "a.remove(\"Korek\")\n",
        "print(a)"
      ],
      "metadata": {
        "colab": {
          "base_uri": "https://localhost:8080/"
        },
        "id": "u8krVS3j8VKn",
        "outputId": "6e1a88f2-5f58-4726-fbff-bf4426b84746"
      },
      "execution_count": 37,
      "outputs": [
        {
          "output_type": "stream",
          "name": "stdout",
          "text": [
            "{'Rokok', 'Asbak'}\n"
          ]
        }
      ]
    },
    {
      "cell_type": "markdown",
      "source": [
        "Dictionary"
      ],
      "metadata": {
        "id": "KRpjgiyD989Y"
      }
    },
    {
      "cell_type": "code",
      "source": [
        "#contoh dictionary yang diisi item dengan berbagai jenis tipe data\n",
        "x = {\"nama\": \"Budi\", \"umur\": 50, \"tinggi_badan\": 155.5}\n",
        "print(x)"
      ],
      "metadata": {
        "colab": {
          "base_uri": "https://localhost:8080/"
        },
        "id": "RRk06qQV9_PJ",
        "outputId": "a4c8eab7-eb83-4073-ab01-d7afd5c03758"
      },
      "execution_count": 40,
      "outputs": [
        {
          "output_type": "stream",
          "name": "stdout",
          "text": [
            "{'nama': 'Budi', 'umur': 50, 'tinggi_badan': 155.5}\n"
          ]
        }
      ]
    },
    {
      "cell_type": "code",
      "source": [
        "#mengakses value dari dictonary\n",
        "menteri={\"nama\": \"Budi\", \"umur\": 50}\n",
        "print(menteri[\"umur\"])"
      ],
      "metadata": {
        "colab": {
          "base_uri": "https://localhost:8080/"
        },
        "id": "mT92LmmX-4BC",
        "outputId": "32bd0a4d-75bc-4e82-ec76-833ac82987bd"
      },
      "execution_count": 41,
      "outputs": [
        {
          "output_type": "stream",
          "name": "stdout",
          "text": [
            "50\n"
          ]
        }
      ]
    },
    {
      "cell_type": "code",
      "source": [
        "#contoh membuat dictonary pada python\n",
        "dict = {'Name': 'Zara', 'Age': 7, 'Class': 'First'}\n",
        "print (\"dict['Name']: \", dict['Name'])\n",
        "print (\"dict['Age']: \", dict['Age'])"
      ],
      "metadata": {
        "colab": {
          "base_uri": "https://localhost:8080/"
        },
        "id": "ehlygFTo_XcS",
        "outputId": "30ebe317-46af-42d8-fb99-153e7feadf47"
      },
      "execution_count": 45,
      "outputs": [
        {
          "output_type": "stream",
          "name": "stdout",
          "text": [
            "dict['Name']:  Zara\n",
            "dict['Age']:  7\n"
          ]
        }
      ]
    },
    {
      "cell_type": "markdown",
      "source": [
        "Update Nilai Dalam Dictonary Python"
      ],
      "metadata": {
        "id": "y_tN0UPF_6Hd"
      }
    },
    {
      "cell_type": "code",
      "source": [
        "#mengubah item\n",
        "dict={'Name': 'Zara', 'Age': 7, 'Class': 'First'}\n",
        "dict['Age'] = 8; #Mengubah entri yang sudah ada\n",
        "dict['School'] = \"DPS School\" #Menambah entri baru\n",
        "\n",
        "print(\"dict['Age']: \", dict['Age'])\n",
        "print(\"dict['School']: \", dict['School'])"
      ],
      "metadata": {
        "colab": {
          "base_uri": "https://localhost:8080/"
        },
        "id": "xbzo4hTP_3mV",
        "outputId": "1f5744fc-33aa-45d2-a618-8878e1e99b6e"
      },
      "execution_count": 48,
      "outputs": [
        {
          "output_type": "stream",
          "name": "stdout",
          "text": [
            "dict['Age']:  8\n",
            "dict['School']:  DPS School\n"
          ]
        }
      ]
    },
    {
      "cell_type": "code",
      "source": [
        "menteri = {\"nama\": \"Budi\", \"umur\": 58}\n",
        "menteri[\"nama\"] = \"Adi\"\n",
        "print(menteri)"
      ],
      "metadata": {
        "colab": {
          "base_uri": "https://localhost:8080/"
        },
        "id": "IGLIJsMaCjfw",
        "outputId": "5ca3ff51-ccef-4960-9dd4-05dc2fbb9e7d"
      },
      "execution_count": 50,
      "outputs": [
        {
          "output_type": "stream",
          "name": "stdout",
          "text": [
            "{'nama': 'Adi', 'umur': 58}\n"
          ]
        }
      ]
    },
    {
      "cell_type": "code",
      "source": [
        "#menambah item\n",
        "menteri= {\"nama\": \"Budi\", \"umur\": 50}\n",
        "menteri[ \"kementerian\"] = \"Setneg\"\n",
        "print(menteri)"
      ],
      "metadata": {
        "colab": {
          "base_uri": "https://localhost:8080/"
        },
        "id": "dZICYrmZACw5",
        "outputId": "81c8bfef-d882-4bb3-a04d-370218c5c4bd"
      },
      "execution_count": 52,
      "outputs": [
        {
          "output_type": "stream",
          "name": "stdout",
          "text": [
            "{'nama': 'Budi', 'umur': 50, 'kementerian': 'Setneg'}\n"
          ]
        }
      ]
    },
    {
      "cell_type": "code",
      "source": [
        "#menghapus item\n",
        "menteri = {\"nama\": \"Budi\", \"umur\": 50, \"kementerian\": \"Setneg\"}\n",
        "print(menteri.pop(\"kementerian\"))"
      ],
      "metadata": {
        "colab": {
          "base_uri": "https://localhost:8080/"
        },
        "id": "RFxQtGnFAFXJ",
        "outputId": "c5ea084f-de4e-431a-bf35-a78388f576c1"
      },
      "execution_count": 53,
      "outputs": [
        {
          "output_type": "stream",
          "name": "stdout",
          "text": [
            "Setneg\n"
          ]
        }
      ]
    },
    {
      "cell_type": "code",
      "source": [
        "dict={'Name': 'Zara', 'Age': 7, 'Class': 'First'}\n",
        "\n",
        "del dict['Name'] # hapus entri dengan key 'Name'\n",
        "dict.clear() #hapus semua entri di dict\n",
        "del dict #hapus dictionary yang sudah ada\n",
        "\n",
        "print(\"dict['Age']: \", dict['Age'])\n",
        "print(\"dict[ 'School']: \", dict['School'])"
      ],
      "metadata": {
        "colab": {
          "base_uri": "https://localhost:8080/"
        },
        "id": "x4QZ8A87DMyv",
        "outputId": "0ecd2a90-d042-473b-84f4-291e922fb979"
      },
      "execution_count": 58,
      "outputs": [
        {
          "output_type": "stream",
          "name": "stdout",
          "text": [
            "dict['Age']:  dict['Age']\n",
            "dict[ 'School']:  dict['School']\n"
          ]
        }
      ]
    }
  ]
}